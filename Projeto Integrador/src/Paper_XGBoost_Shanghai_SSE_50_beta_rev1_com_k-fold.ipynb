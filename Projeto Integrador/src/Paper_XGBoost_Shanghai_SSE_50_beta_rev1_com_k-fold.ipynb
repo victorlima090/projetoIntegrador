{
  "nbformat": 4,
  "nbformat_minor": 5,
  "metadata": {
    "kernelspec": {
      "display_name": "Python 3",
      "language": "python",
      "name": "python3"
    },
    "language_info": {
      "codemirror_mode": {
        "name": "ipython",
        "version": 3
      },
      "file_extension": ".py",
      "mimetype": "text/x-python",
      "name": "python",
      "nbconvert_exporter": "python",
      "pygments_lexer": "ipython3",
      "version": "3.8.5"
    },
    "colab": {
      "name": "Paper_XGBoost_Shanghai_SSE_50_beta_rev1_com_k-fold.ipynb",
      "provenance": []
    }
  },
  "cells": [
    {
      "cell_type": "markdown",
      "metadata": {
        "id": "H3r2DQ-diu-2"
      },
      "source": [
        "# Objetivo do notebook é aplicar os conceitos apresentados no paper \"Mean–variance portfolio optimization using machine learning-based\", de Wei Chen et. all.\n",
        "\n",
        "## [Link](https://www.sciencedirect.com/science/article/abs/pii/S1568494620308814 \"Artigo\")"
      ],
      "id": "H3r2DQ-diu-2"
    },
    {
      "cell_type": "code",
      "metadata": {
        "execution": {
          "iopub.execute_input": "2021-08-03T02:37:22.377501Z",
          "iopub.status.busy": "2021-08-03T02:37:22.377501Z",
          "iopub.status.idle": "2021-08-03T02:37:22.390376Z",
          "shell.execute_reply": "2021-08-03T02:37:22.389407Z",
          "shell.execute_reply.started": "2021-08-03T02:37:22.377501Z"
        },
        "tags": [],
        "id": "SkZPFtpyiu-6"
      },
      "source": [
        "import pandas as pd\n",
        "import numpy as np\n",
        "import pandas_datareader.data as web\n",
        "import datetime as dt\n",
        "import matplotlib.pyplot as plt\n",
        "import matplotlib.dates as mdates\n",
        "from matplotlib import style\n",
        "import matplotlib.ticker as mtick\n",
        "import seaborn as sns\n",
        "import yfinance as yf\n",
        "\n",
        "style.use('ggplot')\n",
        "\n",
        "import plotly.graph_objects as go\n",
        "\n",
        "from sklearn.model_selection import train_test_split, GridSearchCV, KFold\n"
      ],
      "id": "SkZPFtpyiu-6",
      "execution_count": null,
      "outputs": []
    },
    {
      "cell_type": "code",
      "metadata": {
        "execution": {
          "iopub.execute_input": "2021-08-03T02:37:22.391368Z",
          "iopub.status.busy": "2021-08-03T02:37:22.391368Z",
          "iopub.status.idle": "2021-08-03T02:37:22.451384Z",
          "shell.execute_reply": "2021-08-03T02:37:22.450911Z",
          "shell.execute_reply.started": "2021-08-03T02:37:22.391368Z"
        },
        "tags": [],
        "id": "1nr2B1pRiu-8"
      },
      "source": [
        "#from stldecompose import decompose\n",
        "##\n",
        "###\n",
        "# Chart drawing\n",
        "import plotly as py\n",
        "import plotly.io as pio\n",
        "import plotly.graph_objects as go\n",
        "from plotly.subplots import make_subplots\n",
        "from plotly.offline import download_plotlyjs, init_notebook_mode, plot, iplot\n",
        "\n",
        "# Mute sklearn warnings\n",
        "from warnings import simplefilter\n",
        "simplefilter(action='ignore', category=FutureWarning)\n",
        "simplefilter(action='ignore', category=DeprecationWarning)\n",
        "\n",
        "# Show charts when running kernel\n",
        "init_notebook_mode(connected=True)\n",
        "\n",
        "# Change default background color for all visualizations\n",
        "layout=go.Layout(paper_bgcolor='rgba(0,0,0,0)', plot_bgcolor='rgba(250,250,250,0.8)')\n",
        "fig = go.Figure(layout=layout)\n",
        "templated_fig = pio.to_templated(fig)\n",
        "pio.templates['my_template'] = templated_fig.layout.template\n",
        "pio.templates.default = 'my_template'"
      ],
      "id": "1nr2B1pRiu-8",
      "execution_count": null,
      "outputs": []
    },
    {
      "cell_type": "code",
      "metadata": {
        "execution": {
          "iopub.execute_input": "2021-08-03T02:37:22.452375Z",
          "iopub.status.busy": "2021-08-03T02:37:22.452375Z",
          "iopub.status.idle": "2021-08-03T02:37:22.466761Z",
          "shell.execute_reply": "2021-08-03T02:37:22.466264Z",
          "shell.execute_reply.started": "2021-08-03T02:37:22.452375Z"
        },
        "tags": [],
        "id": "U6sqdLVWiu-9"
      },
      "source": [
        "#!pip install yfinance\n",
        "#yf.pdr_override()\n",
        "#!pip install stldecompose\n",
        "#add new comment for pr example(delete this if you see it)"
      ],
      "id": "U6sqdLVWiu-9",
      "execution_count": null,
      "outputs": []
    },
    {
      "cell_type": "code",
      "metadata": {
        "execution": {
          "iopub.execute_input": "2021-08-03T02:37:22.467753Z",
          "iopub.status.busy": "2021-08-03T02:37:22.467753Z",
          "iopub.status.idle": "2021-08-03T02:37:22.482160Z",
          "shell.execute_reply": "2021-08-03T02:37:22.481660Z",
          "shell.execute_reply.started": "2021-08-03T02:37:22.467753Z"
        },
        "tags": [],
        "id": "UvlHy5C0iu--"
      },
      "source": [
        "\n",
        "#Lista dos 24 ativos abordados pelo autor, todos parte do índice SSE 50, da Bolsa de Shanghai:\n",
        "\n",
        "ativos = ['600000.SS', '600018.SS', '600028.SS', '600029.SS', '600031.SS', '600048.SS', '600050.SS', '600089.SS', '600100.SS', '600156.SS', '600547.SS', '600637.SS', '600690.SS', '600837.SS',\t'600887.SS', '600999.SS', '601006.SS', '601088.SS', '601111.SS', '601166.SS', '601186.SS', '601688.SS', '601766.SS', '601988.SS']\n",
        "\n",
        "#O autor avalia os ativos entre novembro/2009 e novembro/2019:\n",
        "inicio = dt.datetime(2009,11,1)\n",
        "fim = dt.datetime(2019,11,30)"
      ],
      "id": "UvlHy5C0iu--",
      "execution_count": null,
      "outputs": []
    },
    {
      "cell_type": "code",
      "metadata": {
        "execution": {
          "iopub.execute_input": "2021-08-03T02:37:22.483128Z",
          "iopub.status.busy": "2021-08-03T02:37:22.483128Z",
          "iopub.status.idle": "2021-08-03T02:37:23.143213Z",
          "shell.execute_reply": "2021-08-03T02:37:23.142716Z",
          "shell.execute_reply.started": "2021-08-03T02:37:22.483128Z"
        },
        "tags": [],
        "id": "TlovD9rwiu--"
      },
      "source": [
        "#Um teste para avaliar o primeiro dos ativos:\n",
        "teste = yf.download(\"600000.SS\", start=inicio, end=fim)\n",
        "teste"
      ],
      "id": "TlovD9rwiu--",
      "execution_count": null,
      "outputs": []
    },
    {
      "cell_type": "code",
      "metadata": {
        "execution": {
          "iopub.execute_input": "2021-08-03T02:37:23.144702Z",
          "iopub.status.busy": "2021-08-03T02:37:23.144205Z",
          "iopub.status.idle": "2021-08-03T02:37:36.752595Z",
          "shell.execute_reply": "2021-08-03T02:37:36.751596Z",
          "shell.execute_reply.started": "2021-08-03T02:37:23.144702Z"
        },
        "tags": [],
        "id": "YG4T6g_Yiu-_"
      },
      "source": [
        "# Baixando os dados e organizando num DF:\n",
        "\n",
        "df_ativos = pd.DataFrame(columns = teste.columns)\n",
        "\n",
        "for ativo in ativos:\n",
        "    \n",
        "    dados = yf.download(ativo, inicio, fim)\n",
        "    dados['Ativo'] = ativo \n",
        "    df_ativos = pd.concat([df_ativos, dados])\n",
        "    \n",
        "    \n",
        "    print(f\"Iniciando o download de {ativo}...\")\n",
        "    "
      ],
      "id": "YG4T6g_Yiu-_",
      "execution_count": null,
      "outputs": []
    },
    {
      "cell_type": "code",
      "metadata": {
        "execution": {
          "iopub.execute_input": "2021-08-03T02:37:36.754077Z",
          "iopub.status.busy": "2021-08-03T02:37:36.753581Z",
          "iopub.status.idle": "2021-08-03T02:37:36.767492Z",
          "shell.execute_reply": "2021-08-03T02:37:36.766997Z",
          "shell.execute_reply.started": "2021-08-03T02:37:36.754077Z"
        },
        "tags": [],
        "id": "CTm8V_gyiu-_"
      },
      "source": [
        "df_ativos.shape"
      ],
      "id": "CTm8V_gyiu-_",
      "execution_count": null,
      "outputs": []
    },
    {
      "cell_type": "code",
      "metadata": {
        "id": "Usdp7vFKiu_A"
      },
      "source": [
        "df_ativos.head()"
      ],
      "id": "Usdp7vFKiu_A",
      "execution_count": null,
      "outputs": []
    },
    {
      "cell_type": "code",
      "metadata": {
        "execution": {
          "iopub.execute_input": "2021-08-03T02:37:36.769453Z",
          "iopub.status.busy": "2021-08-03T02:37:36.769453Z",
          "iopub.status.idle": "2021-08-03T02:37:36.798716Z",
          "shell.execute_reply": "2021-08-03T02:37:36.797748Z",
          "shell.execute_reply.started": "2021-08-03T02:37:36.769453Z"
        },
        "tags": [],
        "id": "dIvDt6Btiu_A"
      },
      "source": [
        "df_ativos"
      ],
      "id": "dIvDt6Btiu_A",
      "execution_count": null,
      "outputs": []
    },
    {
      "cell_type": "code",
      "metadata": {
        "execution": {
          "iopub.execute_input": "2021-08-03T02:37:36.799724Z",
          "iopub.status.busy": "2021-08-03T02:37:36.799724Z",
          "iopub.status.idle": "2021-08-03T02:37:36.828973Z",
          "shell.execute_reply": "2021-08-03T02:37:36.828499Z",
          "shell.execute_reply.started": "2021-08-03T02:37:36.799724Z"
        },
        "tags": [],
        "id": "GZeNfVm4iu_B"
      },
      "source": [
        "df_ativos.sort_index(inplace=True) #Organizando o df por datas"
      ],
      "id": "GZeNfVm4iu_B",
      "execution_count": null,
      "outputs": []
    },
    {
      "cell_type": "code",
      "metadata": {
        "execution": {
          "iopub.execute_input": "2021-08-03T02:37:36.829468Z",
          "iopub.status.busy": "2021-08-03T02:37:36.829468Z",
          "iopub.status.idle": "2021-08-03T02:37:36.844348Z",
          "shell.execute_reply": "2021-08-03T02:37:36.843852Z",
          "shell.execute_reply.started": "2021-08-03T02:37:36.829468Z"
        },
        "tags": [],
        "id": "-kBpJINDiu_B"
      },
      "source": [
        "df_ativos.isna().sum() #Nenhum dado nulo..."
      ],
      "id": "-kBpJINDiu_B",
      "execution_count": null,
      "outputs": []
    },
    {
      "cell_type": "code",
      "metadata": {
        "execution": {
          "iopub.execute_input": "2021-08-03T02:37:36.845340Z",
          "iopub.status.busy": "2021-08-03T02:37:36.844844Z",
          "iopub.status.idle": "2021-08-03T02:37:39.382374Z",
          "shell.execute_reply": "2021-08-03T02:37:39.380915Z",
          "shell.execute_reply.started": "2021-08-03T02:37:36.845340Z"
        },
        "tags": [],
        "id": "PRSNO0fPiu_B"
      },
      "source": [
        "#Exemplo do que estamos lidando: Ativo 1:\n",
        "fig = make_subplots(rows=2, cols=1)\n",
        "\n",
        "fig.add_trace(go.Ohlc(x=df_ativos.index,\n",
        "                      open=df_ativos[df_ativos['Ativo']=='600000.SS'].Open,\n",
        "                      high=df_ativos[df_ativos['Ativo']=='600000.SS'].High,\n",
        "                      low=df_ativos[df_ativos['Ativo']=='600000.SS'].Low,\n",
        "                      close=df_ativos[df_ativos['Ativo']=='600000.SS'].Close,\n",
        "                      name='Price'), row=1, col=1)\n",
        "\n",
        "fig.add_trace(go.Scatter(x=df_ativos.index, y=df_ativos[df_ativos['Ativo']=='600000.SS'].Volume, name='Volume'), row=2, col=1)\n",
        "\n",
        "fig.update(layout_xaxis_rangeslider_visible=False)\n",
        "fig.show()"
      ],
      "id": "PRSNO0fPiu_B",
      "execution_count": null,
      "outputs": []
    },
    {
      "cell_type": "markdown",
      "metadata": {
        "id": "pyrk-ZJUiu_C"
      },
      "source": [
        "## Métricas apresentadas pelo autor no artigo:\n",
        "\n",
        "![image.png](attachment:ef63961c-a6ed-4f81-ad09-a00a4ad25701.png)"
      ],
      "id": "pyrk-ZJUiu_C"
    },
    {
      "cell_type": "code",
      "metadata": {
        "execution": {
          "iopub.execute_input": "2021-08-03T02:37:39.383862Z",
          "iopub.status.busy": "2021-08-03T02:37:39.383862Z",
          "iopub.status.idle": "2021-08-03T02:37:39.412134Z",
          "shell.execute_reply": "2021-08-03T02:37:39.411661Z",
          "shell.execute_reply.started": "2021-08-03T02:37:39.383862Z"
        },
        "tags": [],
        "id": "l8zMdddwiu_C"
      },
      "source": [
        "df_ativos.groupby(['Ativo']).mean() #Médias de preço de fechamento ['Close'] próximos aos que foram obtidos pelo autor, com algumas exceções"
      ],
      "id": "l8zMdddwiu_C",
      "execution_count": null,
      "outputs": []
    },
    {
      "cell_type": "code",
      "metadata": {
        "execution": {
          "iopub.execute_input": "2021-08-03T02:37:39.413154Z",
          "iopub.status.busy": "2021-08-03T02:37:39.413154Z",
          "iopub.status.idle": "2021-08-03T02:37:39.442887Z",
          "shell.execute_reply": "2021-08-03T02:37:39.442413Z",
          "shell.execute_reply.started": "2021-08-03T02:37:39.413154Z"
        },
        "tags": [],
        "id": "jfwfxrtfiu_D"
      },
      "source": [
        "df_ativos.groupby(['Ativo']).count() # -> Nem todos os ativos apresentam cotação para todo o período, porém há dados que cobrem grande parte do espectro temporal para cada ativo."
      ],
      "id": "jfwfxrtfiu_D",
      "execution_count": null,
      "outputs": []
    },
    {
      "cell_type": "code",
      "metadata": {
        "execution": {
          "iopub.execute_input": "2021-08-03T02:37:39.443908Z",
          "iopub.status.busy": "2021-08-03T02:37:39.443410Z",
          "iopub.status.idle": "2021-08-03T02:37:39.458263Z",
          "shell.execute_reply": "2021-08-03T02:37:39.457766Z",
          "shell.execute_reply.started": "2021-08-03T02:37:39.443908Z"
        },
        "tags": [],
        "id": "FBuQWCEpiu_D"
      },
      "source": [
        "#path = r\"C:\\Users\\Alexandre\\OneDrive\\Documentos\\1. PRO\\Data Science\\Projeto Integrador\\Apoio\\Abner\"\n",
        "#df_ativos.to_csv(path_or_buf = path+\"df_ativos.csv\" )"
      ],
      "id": "FBuQWCEpiu_D",
      "execution_count": null,
      "outputs": []
    },
    {
      "cell_type": "markdown",
      "metadata": {
        "tags": [],
        "id": "mMujuf2Qiu_D"
      },
      "source": [
        "## O paper traz uma série de dados de entrada, que vamos preparar na sequência. São eles:\n",
        "\n",
        "![image.png](attachment:adf611c9-0605-42a4-a21a-f10dca453994.png)\n",
        "\n",
        "Como se pode observar, são 15 variáveis que envolvem relações temporais entre preços (open, close, high, low), além de 4 outras features muito utilizadas (True Range, Average True Range | 14d, Momentum Index | 10d, Relative Strength Index | 14d).\n",
        "\n",
        "Na sequência, vamos criar todas essas varíaveis com base nos dados já levantados. Siglas:\n",
        "\n",
        "* O - Open Price para um dia *\"i\"* específico\n",
        "* C - Close Price para um dia *\"i\"* específico\n",
        "* H - Highest Price para um dia *\"i\"* específico\n",
        "* L - Lowest Price para um dia *\"i\"* específico\n",
        "\n"
      ],
      "id": "mMujuf2Qiu_D"
    },
    {
      "cell_type": "code",
      "metadata": {
        "execution": {
          "iopub.execute_input": "2021-08-03T02:37:39.458758Z",
          "iopub.status.busy": "2021-08-03T02:37:39.458758Z",
          "iopub.status.idle": "2021-08-03T02:37:42.780148Z",
          "shell.execute_reply": "2021-08-03T02:37:42.779141Z",
          "shell.execute_reply.started": "2021-08-03T02:37:39.458758Z"
        },
        "tags": [],
        "id": "Vq2zversiu_E"
      },
      "source": [
        "#Criando as features de entrada no DataFrame:\n",
        "\n",
        "df_ativos['1: ln(C/C-1)'] = pd.Series(dtype=float)\n",
        "df_ativos['2: ln(C-1/C-2)'] = pd.Series(dtype=float)\n",
        "df_ativos['3: ln(C-2/C-3)'] = pd.Series(dtype=float)\n",
        "df_ativos['4: ln(C-3/C-4)'] = pd.Series(dtype=float)\n",
        "df_ativos['5: ln(H/O)'] = pd.Series(dtype=float)\n",
        "df_ativos['6: ln(H/O-1)'] = pd.Series(dtype=float)\n",
        "df_ativos['7: ln(H/O-2)'] = pd.Series(dtype=float)\n",
        "df_ativos['8: ln(H/O-3)'] = pd.Series(dtype=float)\n",
        "df_ativos['9: ln(H-1/O-1)'] = pd.Series(dtype=float)\n",
        "df_ativos['10: ln(H-2/O-2)'] = pd.Series(dtype=float)\n",
        "df_ativos['11: ln(H-3/O-3)'] = pd.Series(dtype=float)\n",
        "df_ativos['12: ln(L/O)'] = pd.Series(dtype=float)\n",
        "df_ativos['13: ln(L-1/O-1)'] = pd.Series(dtype=float)\n",
        "df_ativos['14: ln(L-2/O-2)'] = pd.Series(dtype=float)\n",
        "df_ativos['15: ln(L-3/O-3)'] = pd.Series(dtype=float)\n",
        "df_ativos['16: True Range'] = pd.Series(dtype=float)\n",
        "df_ativos['17: ATR 14d'] = pd.Series(dtype=float)\n",
        "df_ativos['18: MI 10d'] = pd.Series(dtype=float)\n",
        "df_ativos['19: RSI 14d'] = pd.Series(dtype=float)"
      ],
      "id": "Vq2zversiu_E",
      "execution_count": null,
      "outputs": []
    },
    {
      "cell_type": "code",
      "metadata": {
        "execution": {
          "iopub.execute_input": "2021-08-03T02:37:42.781621Z",
          "iopub.status.busy": "2021-08-03T02:37:42.781125Z",
          "iopub.status.idle": "2021-08-03T02:37:47.439079Z",
          "shell.execute_reply": "2021-08-03T02:37:47.438057Z",
          "shell.execute_reply.started": "2021-08-03T02:37:42.781621Z"
        },
        "tags": [],
        "id": "XblUaX5wiu_F"
      },
      "source": [
        "#Calculando as variáveis com logaritmos naturais \"lagged\":\n",
        "\n",
        "for ativo in ativos:\n",
        "    \n",
        "    df_ativos.loc[df_ativos['Ativo'] == ativo,'1: ln(C/C-1)'] = np.log(df_ativos.loc[df_ativos['Ativo'] == ativo, 'Close'] / df_ativos.loc[df_ativos['Ativo'] == ativo,'Close'].shift(1))\n",
        "    df_ativos.loc[df_ativos['Ativo'] == ativo,'2: ln(C-1/C-2)'] = np.log(df_ativos.loc[df_ativos['Ativo'] == ativo]['Close'].shift(1)/df_ativos.loc[df_ativos['Ativo'] == ativo]['Close'].shift(2))\n",
        "    df_ativos.loc[df_ativos['Ativo'] == ativo,'3: ln(C-2/C-3)'] = np.log(df_ativos.loc[df_ativos['Ativo'] == ativo]['Close'].shift(2)/df_ativos.loc[df_ativos['Ativo'] == ativo]['Close'].shift(3))\n",
        "    df_ativos.loc[df_ativos['Ativo'] == ativo,'4: ln(C-3/C-4)'] = np.log(df_ativos.loc[df_ativos['Ativo'] == ativo]['Close'].shift(3)/df_ativos.loc[df_ativos['Ativo'] == ativo]['Close'].shift(4))\n",
        "    df_ativos.loc[df_ativos['Ativo'] == ativo,'5: ln(H/O)'] = np.log(df_ativos.loc[df_ativos['Ativo'] == ativo]['High']/df_ativos.loc[df_ativos['Ativo'] == ativo]['Open'])\n",
        "    df_ativos.loc[df_ativos['Ativo'] == ativo,'6: ln(H/O-1)'] = np.log(df_ativos.loc[df_ativos['Ativo'] == ativo]['High']/df_ativos.loc[df_ativos['Ativo'] == ativo]['Open'].shift(1))\n",
        "    df_ativos.loc[df_ativos['Ativo'] == ativo,'7: ln(H/O-2)'] = np.log(df_ativos.loc[df_ativos['Ativo'] == ativo]['High']/df_ativos.loc[df_ativos['Ativo'] == ativo]['Open'].shift(2))\n",
        "    df_ativos.loc[df_ativos['Ativo'] == ativo,'8: ln(H/O-3)'] = np.log(df_ativos.loc[df_ativos['Ativo'] == ativo]['High']/df_ativos.loc[df_ativos['Ativo'] == ativo]['Open'].shift(3))\n",
        "    df_ativos.loc[df_ativos['Ativo'] == ativo,'9: ln(H-1/O-1)'] = np.log(df_ativos.loc[df_ativos['Ativo'] == ativo]['High'].shift(1)/df_ativos.loc[df_ativos['Ativo'] == ativo]['Open'].shift(1))\n",
        "    df_ativos.loc[df_ativos['Ativo'] == ativo,'10: ln(H-2/O-2)'] = np.log(df_ativos.loc[df_ativos['Ativo'] == ativo]['High'].shift(2)/df_ativos.loc[df_ativos['Ativo'] == ativo]['Open'].shift(2))\n",
        "    df_ativos.loc[df_ativos['Ativo'] == ativo,'11: ln(H-3/O-3)'] = np.log(df_ativos.loc[df_ativos['Ativo'] == ativo]['High'].shift(3)/df_ativos.loc[df_ativos['Ativo'] == ativo]['Open'].shift(3))\n",
        "    df_ativos.loc[df_ativos['Ativo'] == ativo,'12: ln(L/O)'] = np.log(df_ativos.loc[df_ativos['Ativo'] == ativo]['Low']/df_ativos.loc[df_ativos['Ativo'] == ativo]['Open'])\n",
        "    df_ativos.loc[df_ativos['Ativo'] == ativo,'13: ln(L-1/O-1)'] = np.log(df_ativos.loc[df_ativos['Ativo'] == ativo]['Low'].shift(1)/df_ativos.loc[df_ativos['Ativo'] == ativo]['Open'].shift(1))\n",
        "    df_ativos.loc[df_ativos['Ativo'] == ativo,'14: ln(L-2/O-2)'] = np.log(df_ativos.loc[df_ativos['Ativo'] == ativo]['Low'].shift(2)/df_ativos.loc[df_ativos['Ativo'] == ativo]['Open'].shift(2))\n",
        "    df_ativos.loc[df_ativos['Ativo'] == ativo,'15: ln(L-3/O-3)'] = np.log(df_ativos.loc[df_ativos['Ativo'] == ativo]['Low'].shift(3)/df_ativos.loc[df_ativos['Ativo'] == ativo]['Open'].shift(3))"
      ],
      "id": "XblUaX5wiu_F",
      "execution_count": null,
      "outputs": []
    },
    {
      "cell_type": "markdown",
      "metadata": {
        "execution": {
          "iopub.execute_input": "2021-08-01T13:16:12.479939Z",
          "iopub.status.busy": "2021-08-01T13:16:12.479939Z",
          "iopub.status.idle": "2021-08-01T13:16:12.488370Z",
          "shell.execute_reply": "2021-08-01T13:16:12.487379Z",
          "shell.execute_reply.started": "2021-08-01T13:16:12.479939Z"
        },
        "tags": [],
        "id": "wfVhaCVOiu_G"
      },
      "source": [
        "Variáveis True Range e Average True Range (Explicadas aqui: https://www.investopedia.com/terms/a/atr.asp#:~:text=The%20true%20range%20indicator%20is,days%2C%20of%20the%20true%20ranges.):\n",
        "\n",
        "![image.png](attachment:c5cca365-b330-46d8-8fb2-a3f371c7f32c.png)\n",
        "\n"
      ],
      "id": "wfVhaCVOiu_G"
    },
    {
      "cell_type": "code",
      "metadata": {
        "execution": {
          "iopub.execute_input": "2021-08-03T02:37:47.440042Z",
          "iopub.status.busy": "2021-08-03T02:37:47.440042Z",
          "iopub.status.idle": "2021-08-03T02:37:48.314983Z",
          "shell.execute_reply": "2021-08-03T02:37:48.314488Z",
          "shell.execute_reply.started": "2021-08-03T02:37:47.440042Z"
        },
        "tags": [],
        "id": "i0XU62V2iu_H"
      },
      "source": [
        "#Calculando as variáveis True Range e Average True Range | 14d:\n",
        "\n",
        "for ativo in ativos:\n",
        "    \n",
        "    df_ativos.loc[df_ativos['Ativo'] == ativo,'16: True Range'] = np.nanmax([np.abs(df_ativos.loc[df_ativos['Ativo'] == ativo, 'High'] - df_ativos.loc[df_ativos['Ativo'] == ativo, 'Low']), \n",
        "                                                                            np.abs(df_ativos.loc[df_ativos['Ativo'] == ativo, 'High'] - df_ativos.loc[df_ativos['Ativo'] == ativo, 'Close'].shift(1)), \n",
        "                                                                            np.abs(df_ativos.loc[df_ativos['Ativo'] == ativo, 'Low'] - df_ativos.loc[df_ativos['Ativo'] == ativo, 'Close'].shift(1))], axis=0)\n",
        "    \n",
        "    \n",
        "    df_ativos.loc[df_ativos['Ativo'] == ativo,'17: ATR 14d'] = df_ativos.loc[df_ativos['Ativo'] == ativo,'16: True Range'].rolling(window=14).mean()\n",
        "    \n",
        "    \n",
        "\n"
      ],
      "id": "i0XU62V2iu_H",
      "execution_count": null,
      "outputs": []
    },
    {
      "cell_type": "code",
      "metadata": {
        "execution": {
          "iopub.execute_input": "2021-08-03T02:37:48.315975Z",
          "iopub.status.busy": "2021-08-03T02:37:48.315975Z",
          "iopub.status.idle": "2021-08-03T02:37:48.622283Z",
          "shell.execute_reply": "2021-08-03T02:37:48.621816Z",
          "shell.execute_reply.started": "2021-08-03T02:37:48.315975Z"
        },
        "tags": [],
        "id": "zoqCUmtaiu_I"
      },
      "source": [
        "#Calculando a variável MSI | 10d (corresponde à diferença de preços entre o dia atual e o décimo dia anterior. Detalhes: https://help.eaglesmarkets.com/hc/en-us/articles/900002105843-What-are-the-MTM-indicators-Detailed-explanation-of-MTM-index):\n",
        "\n",
        "for ativo in ativos:\n",
        "    \n",
        "    df_ativos.loc[df_ativos['Ativo'] == ativo,'18: MI 10d'] = df_ativos.loc[df_ativos['Ativo'] == ativo, 'Close'] - df_ativos.loc[df_ativos['Ativo'] == ativo, 'Close'].shift(10)\n"
      ],
      "id": "zoqCUmtaiu_I",
      "execution_count": null,
      "outputs": []
    },
    {
      "cell_type": "code",
      "metadata": {
        "execution": {
          "iopub.execute_input": "2021-08-03T02:37:48.623275Z",
          "iopub.status.busy": "2021-08-03T02:37:48.623275Z",
          "iopub.status.idle": "2021-08-03T02:37:48.929802Z",
          "shell.execute_reply": "2021-08-03T02:37:48.929328Z",
          "shell.execute_reply.started": "2021-08-03T02:37:48.623275Z"
        },
        "tags": [],
        "id": "QjfB-TI0iu_J"
      },
      "source": [
        "#Função para calcular RSI: [Créditos para https://www.kaggle.com/mtszkw/xgboost-for-stock-trend-prices-prediction, levemente modificado para comportar diversos ativos]\n",
        "\n",
        "def relative_strength_idx(df, ativo, n=14):\n",
        "    close = df[df['Ativo']==ativo]['Close']\n",
        "    delta = close.diff()\n",
        "    pricesUp = delta.copy()\n",
        "    pricesDown = delta.copy()\n",
        "    pricesUp[pricesUp < 0] = 0\n",
        "    pricesDown[pricesDown > 0] = 0\n",
        "    rollUp = pricesUp.rolling(n).mean()\n",
        "    rollDown = pricesDown.abs().rolling(n).mean()\n",
        "    rs = rollUp / rollDown\n",
        "    rsi = 100 - (100 / (1 + rs))\n",
        "    return rsi\n",
        "\n",
        "for ativo in ativos:\n",
        "\n",
        "    df_ativos.loc[df_ativos['Ativo'] == ativo,'19: RSI 14d'] = relative_strength_idx(df_ativos,ativo)\n",
        "    "
      ],
      "id": "QjfB-TI0iu_J",
      "execution_count": null,
      "outputs": []
    },
    {
      "cell_type": "code",
      "metadata": {
        "execution": {
          "iopub.execute_input": "2021-08-03T02:37:48.930794Z",
          "iopub.status.busy": "2021-08-03T02:37:48.930297Z",
          "iopub.status.idle": "2021-08-03T02:37:48.945178Z",
          "shell.execute_reply": "2021-08-03T02:37:48.944700Z",
          "shell.execute_reply.started": "2021-08-03T02:37:48.930794Z"
        },
        "id": "l2QdI9kOiu_K"
      },
      "source": [
        "#Como a ideia é prever o preço do dia seguinte, vamos dar um shift na coluna 'Close'. \n",
        "#Teremos todas as features relacionadas ao mesmo dia, mas a variável de saída será o preço do dia seguinte.\n",
        "\n",
        "#df_ativos['Close'] = df_ativos['Close'].shift(-1)"
      ],
      "id": "l2QdI9kOiu_K",
      "execution_count": null,
      "outputs": []
    },
    {
      "cell_type": "code",
      "metadata": {
        "execution": {
          "iopub.execute_input": "2021-08-03T02:37:48.946199Z",
          "iopub.status.busy": "2021-08-03T02:37:48.946199Z",
          "iopub.status.idle": "2021-08-03T02:37:49.007178Z",
          "shell.execute_reply": "2021-08-03T02:37:49.006186Z",
          "shell.execute_reply.started": "2021-08-03T02:37:48.946199Z"
        },
        "tags": [],
        "id": "a2gzTgfxiu_K"
      },
      "source": [
        "df_ativos"
      ],
      "id": "a2gzTgfxiu_K",
      "execution_count": null,
      "outputs": []
    },
    {
      "cell_type": "code",
      "metadata": {
        "execution": {
          "iopub.execute_input": "2021-08-03T02:37:49.008666Z",
          "iopub.status.busy": "2021-08-03T02:37:49.008170Z",
          "iopub.status.idle": "2021-08-03T02:37:49.068682Z",
          "shell.execute_reply": "2021-08-03T02:37:49.067713Z",
          "shell.execute_reply.started": "2021-08-03T02:37:49.008170Z"
        },
        "tags": [],
        "id": "kBcFwIeziu_K"
      },
      "source": [
        "df_ativos_sna = df_ativos.dropna() #Muitas métricas precisam de mais dias de medição, de forma que os primeiros são nulos. Ao final, partimos do dia 20/11/2009 para a análise. Lembrando que aqui dropamos as ocorrências intrinsecamente ligadas a cada ativo, de forma que um ativo não atrapalha o outro.\n",
        "df_ativos_sna"
      ],
      "id": "kBcFwIeziu_K",
      "execution_count": null,
      "outputs": []
    },
    {
      "cell_type": "code",
      "metadata": {
        "execution": {
          "iopub.execute_input": "2021-08-03T02:37:49.071163Z",
          "iopub.status.busy": "2021-08-03T02:37:49.071163Z",
          "iopub.status.idle": "2021-08-03T02:37:49.083562Z",
          "shell.execute_reply": "2021-08-03T02:37:49.083065Z",
          "shell.execute_reply.started": "2021-08-03T02:37:49.071163Z"
        },
        "tags": [],
        "id": "zHn18ibyiu_K"
      },
      "source": [
        "#Dúvida que não quer calar: Usar tudo pra fazer um modelo só (passando OneHotEncoder na feature 'Ativo' e deixando os preços dos ativos se autoinfluenciarem) ou fazer um modelo pra cada ativo?!"
      ],
      "id": "zHn18ibyiu_K",
      "execution_count": null,
      "outputs": []
    },
    {
      "cell_type": "code",
      "metadata": {
        "execution": {
          "iopub.execute_input": "2021-08-03T02:37:49.084553Z",
          "iopub.status.busy": "2021-08-03T02:37:49.084553Z",
          "iopub.status.idle": "2021-08-03T02:37:49.206782Z",
          "shell.execute_reply": "2021-08-03T02:37:49.206286Z",
          "shell.execute_reply.started": "2021-08-03T02:37:49.084553Z"
        },
        "tags": [],
        "id": "HX5wA8S8iu_L"
      },
      "source": [
        "#Um modelo pra cada ativo parece fazer mais sentido... \n",
        "#Acho que o melhor caminho seria por um dicionário de DFs, uma entrada pra cada ativo.\n",
        "#Separando os dataframes para cada Ativo em um dicionário, para  e gerar as features de interesse:\n",
        "\n",
        "dict_ativos = {}\n",
        "\n",
        "for ativo in ativos:\n",
        "    dict_ativos[ativo] = df_ativos_sna[df_ativos_sna['Ativo']==ativo]\n",
        "    "
      ],
      "id": "HX5wA8S8iu_L",
      "execution_count": null,
      "outputs": []
    },
    {
      "cell_type": "code",
      "metadata": {
        "collapsed": true,
        "execution": {
          "iopub.execute_input": "2021-08-03T02:37:49.208270Z",
          "iopub.status.busy": "2021-08-03T02:37:49.207774Z",
          "iopub.status.idle": "2021-08-03T02:37:49.437421Z",
          "shell.execute_reply": "2021-08-03T02:37:49.436925Z",
          "shell.execute_reply.started": "2021-08-03T02:37:49.208270Z"
        },
        "jupyter": {
          "outputs_hidden": true
        },
        "tags": [],
        "id": "6_Z8mPA_iu_L"
      },
      "source": [
        "dict_ativos"
      ],
      "id": "6_Z8mPA_iu_L",
      "execution_count": null,
      "outputs": []
    },
    {
      "cell_type": "code",
      "metadata": {
        "collapsed": true,
        "execution": {
          "iopub.execute_input": "2021-08-03T08:19:10.262459Z",
          "iopub.status.busy": "2021-08-03T08:19:10.261963Z",
          "iopub.status.idle": "2021-08-03T08:19:10.441019Z",
          "shell.execute_reply": "2021-08-03T08:19:10.440027Z",
          "shell.execute_reply.started": "2021-08-03T08:19:10.262459Z"
        },
        "jupyter": {
          "outputs_hidden": true
        },
        "tags": [],
        "id": "wHbgxQa5iu_M"
      },
      "source": [
        "#Fazendo um split do dataset em 80% treino, 20% teste e armazenando cada um em dicionário específico, já retirando as variáveis não desejadas: \n",
        "\n",
        "test_size  = 0.20\n",
        "\n",
        "dict_train = {}\n",
        "dict_test = {}\n",
        "\n",
        "dict_X_train = {}\n",
        "dict_X_test = {}\n",
        "\n",
        "dict_y_train = {}\n",
        "dict_y_test = {}\n",
        "\n",
        "\n",
        "lista_drop = ['Open', 'High', 'Low', 'Adj Close', 'Volume',\t'Ativo']\n",
        "\n",
        "for ativo, df in dict_ativos.items():\n",
        "\n",
        "    test_split_idx  = int(df.shape[0] * (1-test_size))\n",
        "\n",
        "#Como a ideia é prever o preço do dia seguinte, vamos dar um shift na coluna 'Close'. \n",
        "#Teremos todas as features relacionadas ao mesmo dia, mas a variável de saída será o preço do dia seguinte.\n",
        "  \n",
        "    \n",
        "    df['Close'] = df.loc[:,'Close'].shift(-1) #Gera um NA, então vamos ter que dropar novamente...\n",
        "    df.dropna(inplace=True)\n",
        "    \n",
        "    df_train  = df.iloc[:test_split_idx].copy()\n",
        "    df_test   = df.iloc[test_split_idx+1:].copy()\n",
        "    \n",
        "    X_train = df_train.drop(columns = lista_drop).drop(columns='Close')\n",
        "    X_test = df_test.drop(columns = lista_drop).drop(columns='Close')\n",
        "    \n",
        "    y_train = df_train['Close']\n",
        "    y_test = df_test['Close']\n",
        "\n",
        "    dict_train[ativo] = df_train.drop(columns = lista_drop)\n",
        "    dict_test[ativo] = df_test.drop(columns = lista_drop)\n",
        "    \n",
        "    dict_X_train[ativo] = X_train\n",
        "    dict_X_test[ativo] = X_test\n",
        "    \n",
        "    dict_y_train[ativo] = y_train\n",
        "    dict_y_test[ativo] = y_test"
      ],
      "id": "wHbgxQa5iu_M",
      "execution_count": null,
      "outputs": []
    },
    {
      "cell_type": "code",
      "metadata": {
        "execution": {
          "iopub.execute_input": "2021-08-03T08:19:23.885718Z",
          "iopub.status.busy": "2021-08-03T08:19:23.885718Z",
          "iopub.status.idle": "2021-08-03T08:19:23.924881Z",
          "shell.execute_reply": "2021-08-03T08:19:23.924412Z",
          "shell.execute_reply.started": "2021-08-03T08:19:23.885718Z"
        },
        "tags": [],
        "id": "-yuRQbkkiu_N"
      },
      "source": [
        "df_train"
      ],
      "id": "-yuRQbkkiu_N",
      "execution_count": null,
      "outputs": []
    },
    {
      "cell_type": "code",
      "metadata": {
        "execution": {
          "iopub.execute_input": "2021-08-03T02:39:59.912230Z",
          "iopub.status.busy": "2021-08-03T02:39:59.911734Z",
          "iopub.status.idle": "2021-08-03T02:39:59.945958Z",
          "shell.execute_reply": "2021-08-03T02:39:59.945461Z",
          "shell.execute_reply.started": "2021-08-03T02:39:59.912230Z"
        },
        "tags": [],
        "id": "9SIFVsfIiu_N"
      },
      "source": [
        "#Acessando, por exemplo, o df_train do primeiro ativo:\n",
        "list(dict_train.values())[0]"
      ],
      "id": "9SIFVsfIiu_N",
      "execution_count": null,
      "outputs": []
    },
    {
      "cell_type": "code",
      "metadata": {
        "execution": {
          "iopub.execute_input": "2021-08-03T02:40:00.111214Z",
          "iopub.status.busy": "2021-08-03T02:40:00.111214Z",
          "iopub.status.idle": "2021-08-03T02:40:00.145934Z",
          "shell.execute_reply": "2021-08-03T02:40:00.145438Z",
          "shell.execute_reply.started": "2021-08-03T02:40:00.111214Z"
        },
        "tags": [],
        "id": "NtseVM9biu_N"
      },
      "source": [
        "list(dict_train.values())[0]"
      ],
      "id": "NtseVM9biu_N",
      "execution_count": null,
      "outputs": []
    },
    {
      "cell_type": "code",
      "metadata": {
        "execution": {
          "iopub.execute_input": "2021-08-03T02:40:06.430905Z",
          "iopub.status.busy": "2021-08-03T02:40:06.430905Z",
          "iopub.status.idle": "2021-08-03T02:40:06.514232Z",
          "shell.execute_reply": "2021-08-03T02:40:06.513736Z",
          "shell.execute_reply.started": "2021-08-03T02:40:06.430905Z"
        },
        "tags": [],
        "id": "VVS0hF43iu_N"
      },
      "source": [
        "#Vamos ver a cara dessa bagaça e como ficaram temporalmente treino, validação e teste...\n",
        "fig = go.Figure()\n",
        "fig.add_trace(go.Scatter(x=list(dict_train.values())[0].index, y=list(dict_train.values())[0].Close, name='Treino'))\n",
        "fig.add_trace(go.Scatter(x=list(dict_test.values())[0].index,  y=list(dict_test.values())[0].Close,  name='Teste'))\n",
        "fig.show()"
      ],
      "id": "VVS0hF43iu_N",
      "execution_count": null,
      "outputs": []
    },
    {
      "cell_type": "code",
      "metadata": {
        "execution": {
          "iopub.execute_input": "2021-08-03T02:40:09.080344Z",
          "iopub.status.busy": "2021-08-03T02:40:09.079855Z",
          "iopub.status.idle": "2021-08-03T02:40:09.097704Z",
          "shell.execute_reply": "2021-08-03T02:40:09.097235Z",
          "shell.execute_reply.started": "2021-08-03T02:40:09.080344Z"
        },
        "tags": [],
        "id": "hyPNE814iu_O"
      },
      "source": [
        "#Ok, parece que temos tudo para começar a modelagem. Vamos ao que interessa..."
      ],
      "id": "hyPNE814iu_O",
      "execution_count": null,
      "outputs": []
    },
    {
      "cell_type": "code",
      "metadata": {
        "execution": {
          "iopub.execute_input": "2021-08-03T02:40:09.450908Z",
          "iopub.status.busy": "2021-08-03T02:40:09.450410Z",
          "iopub.status.idle": "2021-08-03T02:40:09.468267Z",
          "shell.execute_reply": "2021-08-03T02:40:09.467799Z",
          "shell.execute_reply.started": "2021-08-03T02:40:09.450908Z"
        },
        "tags": [],
        "id": "7wN_Rt-jiu_O"
      },
      "source": [
        "#!pip install xgboost"
      ],
      "id": "7wN_Rt-jiu_O",
      "execution_count": null,
      "outputs": []
    },
    {
      "cell_type": "code",
      "metadata": {
        "execution": {
          "iopub.execute_input": "2021-08-03T02:40:10.041828Z",
          "iopub.status.busy": "2021-08-03T02:40:10.041313Z",
          "iopub.status.idle": "2021-08-03T02:40:10.053216Z",
          "shell.execute_reply": "2021-08-03T02:40:10.052743Z",
          "shell.execute_reply.started": "2021-08-03T02:40:10.041828Z"
        },
        "tags": [],
        "id": "YXHmZfXniu_O"
      },
      "source": [
        "import xgboost as xgb\n",
        "import warnings\n",
        "warnings.filterwarnings(action='ignore', category=UserWarning)\n",
        "\n",
        "from xgboost import plot_importance, plot_tree\n",
        "from sklearn.metrics import mean_squared_error\n",
        "from sklearn.preprocessing import MinMaxScaler\n",
        "from sklearn.model_selection import train_test_split, GridSearchCV"
      ],
      "id": "YXHmZfXniu_O",
      "execution_count": null,
      "outputs": []
    },
    {
      "cell_type": "code",
      "metadata": {
        "execution": {
          "iopub.execute_input": "2021-08-03T02:40:11.844239Z",
          "iopub.status.busy": "2021-08-03T02:40:11.843721Z",
          "iopub.status.idle": "2021-08-03T02:40:11.867033Z",
          "shell.execute_reply": "2021-08-03T02:40:11.866066Z",
          "shell.execute_reply.started": "2021-08-03T02:40:11.844239Z"
        },
        "tags": [],
        "id": "sl_my3Sfiu_O"
      },
      "source": [
        "#Vamos checar as variáveis de entrada para o primeiro ativo\n",
        "list(dict_X_train.values())[0].info()"
      ],
      "id": "sl_my3Sfiu_O",
      "execution_count": null,
      "outputs": []
    },
    {
      "cell_type": "code",
      "metadata": {
        "execution": {
          "iopub.execute_input": "2021-08-03T03:10:43.504327Z",
          "iopub.status.busy": "2021-08-03T03:10:43.503832Z",
          "iopub.status.idle": "2021-08-03T04:13:57.205534Z",
          "shell.execute_reply": "2021-08-03T04:13:57.205038Z",
          "shell.execute_reply.started": "2021-08-03T03:10:43.504327Z"
        },
        "tags": [],
        "id": "yV2tMDNWiu_P"
      },
      "source": [
        "param = {\n",
        "    'n_estimators': [50, 100, 200, 300, 400, 500], #Quanto maior, ficou melhor. -> Mudar o intervalo pra cima...\n",
        "    'learning_rate': [0.001, 0.005, 0.01, 0.05, 0.1], #Quanto maior, ficou melhor -> Mudar o intervalo pra cima...\n",
        "    'max_depth': [3, 4, 5, 7, 10], #Quanto menor, ficou melhor -> Mudar o intervalo pra baixo...\n",
        "    'gamma': [0.001, 0.003, 0.005, 0.007, 0.01], #No meio ficou melhor. Testar variações menores a partir do 0.005\n",
        "    'random_state': [248]\n",
        "}\n",
        "\n",
        "#eval_set = [(list(dict_X_train.values())[0], (list(dict_y_train.values())[0])), (list(dict_X_valid.values())[0], (list(dict_y_valid.values())[0]))]\n",
        "#eval_set = [(X_train, y_train), (X_valid, y_valid)]\n",
        "\n",
        "model = xgb.XGBRegressor(objective='reg:squarederror', eval_metric = 'rmse')\n",
        "\n",
        "k = 10\n",
        "\n",
        "kf = KFold(n_splits=k, shuffle = True, random_state = 248)\n",
        "\n",
        "grid_s = GridSearchCV(model, param, cv=kf.split(list(dict_X_train.values())[0], list(dict_y_train.values())[0]) )\n",
        "\n",
        "grid_s.fit(list(dict_X_train.values())[0], list(dict_y_train.values())[0])\n",
        "\n",
        "print(f'Best params: {grid_s.best_params_}')\n",
        "print(f'Best validation score = {grid_s.best_score_}')"
      ],
      "id": "yV2tMDNWiu_P",
      "execution_count": null,
      "outputs": []
    },
    {
      "cell_type": "code",
      "metadata": {
        "execution": {
          "iopub.execute_input": "2021-08-03T08:13:07.946581Z",
          "iopub.status.busy": "2021-08-03T08:13:07.946581Z",
          "iopub.status.idle": "2021-08-03T08:13:08.542275Z",
          "shell.execute_reply": "2021-08-03T08:13:08.541779Z",
          "shell.execute_reply.started": "2021-08-03T08:13:07.946581Z"
        },
        "tags": [],
        "id": "lQcL85IFiu_P"
      },
      "source": [
        "#Setando o melhor modelo:\n",
        "\n",
        "model = xgb.XGBRegressor(**grid_s.best_params_, objective='reg:squarederror', eval_metric = 'rmse')\n",
        "model.fit(list(dict_X_train.values())[0], list(dict_y_train.values())[0])"
      ],
      "id": "lQcL85IFiu_P",
      "execution_count": null,
      "outputs": []
    },
    {
      "cell_type": "code",
      "metadata": {
        "execution": {
          "iopub.execute_input": "2021-08-03T08:13:11.796475Z",
          "iopub.status.busy": "2021-08-03T08:13:11.796475Z",
          "iopub.status.idle": "2021-08-03T08:13:12.096982Z",
          "shell.execute_reply": "2021-08-03T08:13:12.096484Z",
          "shell.execute_reply.started": "2021-08-03T08:13:11.796475Z"
        },
        "tags": [],
        "id": "MqHoLzmwiu_P"
      },
      "source": [
        "#Olhando Feature Importance:\n",
        "plt.rcParams[\"figure.figsize\"] = (20, 10)\n",
        "plot_importance(model, height = 0.5)"
      ],
      "id": "MqHoLzmwiu_P",
      "execution_count": null,
      "outputs": []
    },
    {
      "cell_type": "code",
      "metadata": {
        "execution": {
          "iopub.execute_input": "2021-08-03T08:19:41.050767Z",
          "iopub.status.busy": "2021-08-03T08:19:41.050265Z",
          "iopub.status.idle": "2021-08-03T08:19:41.075064Z",
          "shell.execute_reply": "2021-08-03T08:19:41.074569Z",
          "shell.execute_reply.started": "2021-08-03T08:19:41.050767Z"
        },
        "tags": [],
        "id": "EPgCbkV7iu_P"
      },
      "source": [
        "#Verificando performance do modelo para o conjunto de testes desse primeiro ativo:\n",
        "\n",
        "y_pred_train = model.predict(list(dict_X_train.values())[0])\n",
        "y_pred_test = model.predict(list(dict_X_test.values())[0])\n",
        "\n",
        "print(f'Treino: mean_squared_error = {mean_squared_error(list(dict_y_train.values())[0], y_pred_train)}')\n",
        "print(f'Teste: mean_squared_error = {mean_squared_error(list(dict_y_test.values())[0], y_pred_test)}')"
      ],
      "id": "EPgCbkV7iu_P",
      "execution_count": null,
      "outputs": []
    },
    {
      "cell_type": "code",
      "metadata": {
        "execution": {
          "iopub.execute_input": "2021-08-03T08:19:52.807756Z",
          "iopub.status.busy": "2021-08-03T08:19:52.807278Z",
          "iopub.status.idle": "2021-08-03T08:19:52.973410Z",
          "shell.execute_reply": "2021-08-03T08:19:52.972942Z",
          "shell.execute_reply.started": "2021-08-03T08:19:52.807756Z"
        },
        "tags": [],
        "id": "xS410L1Iiu_P"
      },
      "source": [
        "#Visualização para este único ativo:\n",
        "\n",
        "pred_close_train = list(dict_train.values())[0].copy()\n",
        "pred_close_test = list(dict_test.values())[0].copy()\n",
        "pred_close = pd.concat([pred_close_train, pred_close_test ])\n",
        "\n",
        "plt.rcParams[\"figure.figsize\"] = (100, 20)\n",
        "fig = make_subplots(rows=3, cols=1, )\n",
        "\n",
        "fig.add_trace(go.Scatter(x=pred_close_train.index, y=list(dict_train.values())[0]['Close'],\n",
        "                         name='Real - Treino',\n",
        "                         marker_color='Green'), row=1, col=1)\n",
        "\n",
        "fig.add_trace(go.Scatter(x=pred_close_train.index,\n",
        "                         y=y_pred_train,\n",
        "                         name='Predição - Treino',\n",
        "                         marker_color='DarkBlue'), row=1, col=1)\n",
        "\n",
        "fig.add_trace(go.Scatter(x=pred_close_test.index, y=list(dict_test.values())[0]['Close'],\n",
        "                         name='Real - Teste',\n",
        "                         marker_color='Green'), row=3, col=1)\n",
        "\n",
        "fig.add_trace(go.Scatter(x=pred_close_test.index,\n",
        "                         y=y_pred_test,\n",
        "                         name='Predição - Teste',\n",
        "                         marker_color='DarkBlue'), row=3, col=1)\n",
        "\n",
        "fig.show()"
      ],
      "id": "xS410L1Iiu_P",
      "execution_count": null,
      "outputs": []
    },
    {
      "cell_type": "markdown",
      "metadata": {
        "tags": [],
        "id": "uC-e4eWziu_Q"
      },
      "source": [
        "## O Artigo trouxe as seguintes métricas, comparando o seu modelo aos outros testados:\n",
        "\n",
        "<div>\n",
        "<img src=\"attachment:604775e8-1c91-422c-953c-825dde1c6299.png\" width=\"1000\"/>\n",
        "</div>\n"
      ],
      "id": "uC-e4eWziu_Q"
    },
    {
      "cell_type": "code",
      "metadata": {
        "execution": {
          "iopub.execute_input": "2021-08-03T08:38:14.509120Z",
          "iopub.status.busy": "2021-08-03T08:38:14.509120Z",
          "iopub.status.idle": "2021-08-03T08:38:14.531421Z",
          "shell.execute_reply": "2021-08-03T08:38:14.530952Z",
          "shell.execute_reply.started": "2021-08-03T08:38:14.509120Z"
        },
        "tags": [],
        "id": "PJ6RXfrCiu_Q"
      },
      "source": [
        "#Comparando MAPE, MSE, MAE e RMSE obtidos para o primeiro ativo com os do modelo do paper:\n",
        "\n",
        "#from sklearn.metrics import mean_absolute_percentage_error -> Dando erro\n",
        "from sklearn.metrics import mean_squared_error\n",
        "from sklearn.metrics import mean_absolute_error\n",
        "\n",
        "#MAPE = mean_absolute_percentage_error(y_true = list(dict_test.values())[0]['Close'], y_pred = y_pred_test) -> Fazer na mão grande\n",
        "MAPE_test = np.mean(np.abs((list(dict_test.values())[0]['Close'] - y_pred_test)/list(dict_test.values())[0]['Close']))\n",
        "MSE_test = mean_squared_error(y_true = list(dict_test.values())[0]['Close'], y_pred = y_pred_test, squared = False)\n",
        "MAE_test = mean_absolute_error(y_true = list(dict_test.values())[0]['Close'], y_pred = y_pred_test)\n",
        "RMSE_test = mean_squared_error(y_true = list(dict_test.values())[0]['Close'], y_pred = y_pred_test, squared = True)\n",
        "\n",
        "print(\"Performance prevendo o Ativo 600.000 (Teste):\")\n",
        "print(f'MAPE = {MAPE_test:.4f}')\n",
        "print(f'MSE = {MSE_test:.4f}')\n",
        "print(f'MAE = {MAE_test:.4f}')\n",
        "print(f'RMSE = {RMSE_test:.4f}')"
      ],
      "id": "PJ6RXfrCiu_Q",
      "execution_count": null,
      "outputs": []
    },
    {
      "cell_type": "code",
      "metadata": {
        "execution": {
          "iopub.execute_input": "2021-08-03T08:38:28.884228Z",
          "iopub.status.busy": "2021-08-03T08:38:28.884228Z",
          "iopub.status.idle": "2021-08-03T08:38:28.898117Z",
          "shell.execute_reply": "2021-08-03T08:38:28.897627Z",
          "shell.execute_reply.started": "2021-08-03T08:38:28.884228Z"
        },
        "tags": [],
        "id": "G15RqkHXiu_Q"
      },
      "source": [
        "#Checando as mesmas métricas no treino:\n",
        "\n",
        "MAPE_train = np.mean(np.abs((list(dict_train.values())[0]['Close'] - y_pred_train)/list(dict_train.values())[0]['Close']))\n",
        "MSE_train = mean_squared_error(y_true = list(dict_train.values())[0]['Close'], y_pred = y_pred_train, squared = False)\n",
        "MAE_train = mean_absolute_error(y_true = list(dict_train.values())[0]['Close'], y_pred = y_pred_train)\n",
        "RMSE_train = mean_squared_error(y_true = list(dict_train.values())[0]['Close'], y_pred = y_pred_train, squared = True)\n",
        "\n",
        "print(\"Performance no treino com o Ativo 600.000:\")\n",
        "print(f'MAPE = {MAPE_train:.4f}')\n",
        "print(f'MSE = {MSE_train:.4f}')\n",
        "print(f'MAE = {MAE_train:.4f}')\n",
        "print(f'RMSE = {RMSE_train:.4f}')"
      ],
      "id": "G15RqkHXiu_Q",
      "execution_count": null,
      "outputs": []
    },
    {
      "cell_type": "code",
      "metadata": {
        "execution": {
          "iopub.execute_input": "2021-08-03T08:38:54.847034Z",
          "iopub.status.busy": "2021-08-03T08:38:54.847034Z",
          "iopub.status.idle": "2021-08-03T08:38:54.861419Z",
          "shell.execute_reply": "2021-08-03T08:38:54.860943Z",
          "shell.execute_reply.started": "2021-08-03T08:38:54.847034Z"
        },
        "id": "KWhupR9viu_R"
      },
      "source": [
        "#Melhorar o tunning com base nos melhores parâmetros obtidos."
      ],
      "id": "KWhupR9viu_R",
      "execution_count": null,
      "outputs": []
    },
    {
      "cell_type": "markdown",
      "metadata": {
        "id": "2zBO-rG2iu_R"
      },
      "source": [
        "### Referência interessante em: https://www.kaggle.com/mtszkw/xgboost-for-stock-trend-prices-prediction\n",
        "### Biblioteca de params XGBoost: https://github.com/dmlc/xgboost/blob/master/doc/parameter.rst#parameters-for-tree-booster\n",
        "### GridSearch com crossval (atenção que é clf, não reg): https://www.kaggle.com/tilii7/hyperparameter-grid-search-with-xgboost\n",
        "\n",
        "## Próximos passos: \n",
        "* Checar as métricas obtidas com as do paper (MSE, pelo menos);\n",
        "* Entender com Abner o melhor approach para fitar os modelos para cada ativo (dicionário funciona, mas talvez seja mais simples) ;\n",
        "* Melhorar o tunning do modelo -> Tentar implementar o IFA?\n",
        "* Implementar a seleção de portfólio -> Mean-Variance;\n",
        "* Testar com as cryptos e fazer o tunning novamente;\n",
        "* Deploy!\n"
      ],
      "id": "2zBO-rG2iu_R"
    },
    {
      "cell_type": "code",
      "metadata": {
        "id": "z4LknGQciu_R"
      },
      "source": [
        ""
      ],
      "id": "z4LknGQciu_R",
      "execution_count": null,
      "outputs": []
    }
  ]
}